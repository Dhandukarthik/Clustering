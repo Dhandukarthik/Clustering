{
 "cells": [
  {
   "cell_type": "code",
   "execution_count": 1,
   "metadata": {},
   "outputs": [
    {
     "name": "stderr",
     "output_type": "stream",
     "text": [
      "Warning message:\n",
      "\"package 'ggplot2' was built under R version 3.6.2\"Warning message:\n",
      "\"package 'dplyr' was built under R version 3.6.2\"\n",
      "Attaching package: 'dplyr'\n",
      "\n",
      "The following object is masked from 'package:MASS':\n",
      "\n",
      "    select\n",
      "\n",
      "The following objects are masked from 'package:stats':\n",
      "\n",
      "    filter, lag\n",
      "\n",
      "The following objects are masked from 'package:base':\n",
      "\n",
      "    intersect, setdiff, setequal, union\n",
      "\n",
      "Warning message:\n",
      "\"package 'tidyverse' was built under R version 3.6.2\"-- Attaching packages --------------------------------------- tidyverse 1.3.0 --\n",
      "v tibble  2.1.3     v purrr   0.3.3\n",
      "v tidyr   1.0.0     v stringr 1.4.0\n",
      "v readr   1.3.1     v forcats 0.4.0\n",
      "Warning message:\n",
      "\"package 'tibble' was built under R version 3.6.2\"Warning message:\n",
      "\"package 'tidyr' was built under R version 3.6.2\"Warning message:\n",
      "\"package 'readr' was built under R version 3.6.2\"Warning message:\n",
      "\"package 'purrr' was built under R version 3.6.2\"Warning message:\n",
      "\"package 'stringr' was built under R version 3.6.2\"Warning message:\n",
      "\"package 'forcats' was built under R version 3.6.2\"-- Conflicts ------------------------------------------ tidyverse_conflicts() --\n",
      "x dplyr::filter() masks stats::filter()\n",
      "x dplyr::lag()    masks stats::lag()\n",
      "x dplyr::select() masks MASS::select()\n",
      "Warning message:\n",
      "\"package 'corrplot' was built under R version 3.6.2\"corrplot 0.84 loaded\n",
      "Warning message:\n",
      "\"package 'leaps' was built under R version 3.6.2\"Loading required package: nlme\n",
      "\n",
      "Attaching package: 'nlme'\n",
      "\n",
      "The following object is masked from 'package:dplyr':\n",
      "\n",
      "    collapse\n",
      "\n",
      "This is mgcv 1.8-28. For overview type 'help(\"mgcv-package\")'.\n",
      "Loading required package: Matrix\n",
      "\n",
      "Attaching package: 'Matrix'\n",
      "\n",
      "The following objects are masked from 'package:tidyr':\n",
      "\n",
      "    expand, pack, unpack\n",
      "\n",
      "Loading required package: foreach\n",
      "Warning message:\n",
      "\"package 'foreach' was built under R version 3.6.2\"\n",
      "Attaching package: 'foreach'\n",
      "\n",
      "The following objects are masked from 'package:purrr':\n",
      "\n",
      "    accumulate, when\n",
      "\n",
      "Loaded glmnet 2.0-16\n",
      "\n",
      "Warning message:\n",
      "\"package 'rpart.plot' was built under R version 3.6.2\""
     ]
    }
   ],
   "source": [
    "library(MASS)\n",
    "library(ggplot2)\n",
    "library(dplyr)\n",
    "library(tidyverse)\n",
    "library(corrplot)\n",
    "library(leaps)\n",
    "library(rpart)\n",
    "library(mgcv)\n",
    "library(glmnet)\n",
    "library(boot)\n",
    "library(rpart.plot)"
   ]
  },
  {
   "cell_type": "code",
   "execution_count": 2,
   "metadata": {},
   "outputs": [
    {
     "data": {
      "text/html": [
       "<ol class=list-inline>\n",
       "\t<li>506</li>\n",
       "\t<li>14</li>\n",
       "</ol>\n"
      ],
      "text/latex": [
       "\\begin{enumerate*}\n",
       "\\item 506\n",
       "\\item 14\n",
       "\\end{enumerate*}\n"
      ],
      "text/markdown": [
       "1. 506\n",
       "2. 14\n",
       "\n",
       "\n"
      ],
      "text/plain": [
       "[1] 506  14"
      ]
     },
     "metadata": {},
     "output_type": "display_data"
    }
   ],
   "source": [
    "#loading data\n",
    "data(Boston)\n",
    "dim(Boston)"
   ]
  },
  {
   "cell_type": "code",
   "execution_count": 3,
   "metadata": {},
   "outputs": [
    {
     "data": {
      "text/html": [
       "<table>\n",
       "<thead><tr><th scope=col>crim</th><th scope=col>zn</th><th scope=col>indus</th><th scope=col>chas</th><th scope=col>nox</th><th scope=col>rm</th><th scope=col>age</th><th scope=col>dis</th><th scope=col>rad</th><th scope=col>tax</th><th scope=col>ptratio</th><th scope=col>black</th><th scope=col>lstat</th><th scope=col>medv</th></tr></thead>\n",
       "<tbody>\n",
       "\t<tr><td>0.00632</td><td>18     </td><td>2.31   </td><td>0      </td><td>0.538  </td><td>6.575  </td><td>65.2   </td><td>4.0900 </td><td>1      </td><td>296    </td><td>15.3   </td><td>396.90 </td><td>4.98   </td><td>24.0   </td></tr>\n",
       "\t<tr><td>0.02731</td><td> 0     </td><td>7.07   </td><td>0      </td><td>0.469  </td><td>6.421  </td><td>78.9   </td><td>4.9671 </td><td>2      </td><td>242    </td><td>17.8   </td><td>396.90 </td><td>9.14   </td><td>21.6   </td></tr>\n",
       "\t<tr><td>0.02729</td><td> 0     </td><td>7.07   </td><td>0      </td><td>0.469  </td><td>7.185  </td><td>61.1   </td><td>4.9671 </td><td>2      </td><td>242    </td><td>17.8   </td><td>392.83 </td><td>4.03   </td><td>34.7   </td></tr>\n",
       "\t<tr><td>0.03237</td><td> 0     </td><td>2.18   </td><td>0      </td><td>0.458  </td><td>6.998  </td><td>45.8   </td><td>6.0622 </td><td>3      </td><td>222    </td><td>18.7   </td><td>394.63 </td><td>2.94   </td><td>33.4   </td></tr>\n",
       "\t<tr><td>0.06905</td><td> 0     </td><td>2.18   </td><td>0      </td><td>0.458  </td><td>7.147  </td><td>54.2   </td><td>6.0622 </td><td>3      </td><td>222    </td><td>18.7   </td><td>396.90 </td><td>5.33   </td><td>36.2   </td></tr>\n",
       "\t<tr><td>0.02985</td><td> 0     </td><td>2.18   </td><td>0      </td><td>0.458  </td><td>6.430  </td><td>58.7   </td><td>6.0622 </td><td>3      </td><td>222    </td><td>18.7   </td><td>394.12 </td><td>5.21   </td><td>28.7   </td></tr>\n",
       "</tbody>\n",
       "</table>\n"
      ],
      "text/latex": [
       "\\begin{tabular}{r|llllllllllllll}\n",
       " crim & zn & indus & chas & nox & rm & age & dis & rad & tax & ptratio & black & lstat & medv\\\\\n",
       "\\hline\n",
       "\t 0.00632 & 18      & 2.31    & 0       & 0.538   & 6.575   & 65.2    & 4.0900  & 1       & 296     & 15.3    & 396.90  & 4.98    & 24.0   \\\\\n",
       "\t 0.02731 &  0      & 7.07    & 0       & 0.469   & 6.421   & 78.9    & 4.9671  & 2       & 242     & 17.8    & 396.90  & 9.14    & 21.6   \\\\\n",
       "\t 0.02729 &  0      & 7.07    & 0       & 0.469   & 7.185   & 61.1    & 4.9671  & 2       & 242     & 17.8    & 392.83  & 4.03    & 34.7   \\\\\n",
       "\t 0.03237 &  0      & 2.18    & 0       & 0.458   & 6.998   & 45.8    & 6.0622  & 3       & 222     & 18.7    & 394.63  & 2.94    & 33.4   \\\\\n",
       "\t 0.06905 &  0      & 2.18    & 0       & 0.458   & 7.147   & 54.2    & 6.0622  & 3       & 222     & 18.7    & 396.90  & 5.33    & 36.2   \\\\\n",
       "\t 0.02985 &  0      & 2.18    & 0       & 0.458   & 6.430   & 58.7    & 6.0622  & 3       & 222     & 18.7    & 394.12  & 5.21    & 28.7   \\\\\n",
       "\\end{tabular}\n"
      ],
      "text/markdown": [
       "\n",
       "| crim | zn | indus | chas | nox | rm | age | dis | rad | tax | ptratio | black | lstat | medv |\n",
       "|---|---|---|---|---|---|---|---|---|---|---|---|---|---|\n",
       "| 0.00632 | 18      | 2.31    | 0       | 0.538   | 6.575   | 65.2    | 4.0900  | 1       | 296     | 15.3    | 396.90  | 4.98    | 24.0    |\n",
       "| 0.02731 |  0      | 7.07    | 0       | 0.469   | 6.421   | 78.9    | 4.9671  | 2       | 242     | 17.8    | 396.90  | 9.14    | 21.6    |\n",
       "| 0.02729 |  0      | 7.07    | 0       | 0.469   | 7.185   | 61.1    | 4.9671  | 2       | 242     | 17.8    | 392.83  | 4.03    | 34.7    |\n",
       "| 0.03237 |  0      | 2.18    | 0       | 0.458   | 6.998   | 45.8    | 6.0622  | 3       | 222     | 18.7    | 394.63  | 2.94    | 33.4    |\n",
       "| 0.06905 |  0      | 2.18    | 0       | 0.458   | 7.147   | 54.2    | 6.0622  | 3       | 222     | 18.7    | 396.90  | 5.33    | 36.2    |\n",
       "| 0.02985 |  0      | 2.18    | 0       | 0.458   | 6.430   | 58.7    | 6.0622  | 3       | 222     | 18.7    | 394.12  | 5.21    | 28.7    |\n",
       "\n"
      ],
      "text/plain": [
       "  crim    zn indus chas nox   rm    age  dis    rad tax ptratio black  lstat\n",
       "1 0.00632 18 2.31  0    0.538 6.575 65.2 4.0900 1   296 15.3    396.90 4.98 \n",
       "2 0.02731  0 7.07  0    0.469 6.421 78.9 4.9671 2   242 17.8    396.90 9.14 \n",
       "3 0.02729  0 7.07  0    0.469 7.185 61.1 4.9671 2   242 17.8    392.83 4.03 \n",
       "4 0.03237  0 2.18  0    0.458 6.998 45.8 6.0622 3   222 18.7    394.63 2.94 \n",
       "5 0.06905  0 2.18  0    0.458 7.147 54.2 6.0622 3   222 18.7    396.90 5.33 \n",
       "6 0.02985  0 2.18  0    0.458 6.430 58.7 6.0622 3   222 18.7    394.12 5.21 \n",
       "  medv\n",
       "1 24.0\n",
       "2 21.6\n",
       "3 34.7\n",
       "4 33.4\n",
       "5 36.2\n",
       "6 28.7"
      ]
     },
     "metadata": {},
     "output_type": "display_data"
    }
   ],
   "source": [
    "#a look at first few rows\n",
    "head(Boston)"
   ]
  },
  {
   "cell_type": "code",
   "execution_count": 4,
   "metadata": {},
   "outputs": [
    {
     "name": "stdout",
     "output_type": "stream",
     "text": [
      "Observations: 506\n",
      "Variables: 14\n",
      "$ crim    <dbl> 0.00632, 0.02731, 0.02729, 0.03237, 0.06905, 0.02985, 0.088...\n",
      "$ zn      <dbl> 18.0, 0.0, 0.0, 0.0, 0.0, 0.0, 12.5, 12.5, 12.5, 12.5, 12.5...\n",
      "$ indus   <dbl> 2.31, 7.07, 7.07, 2.18, 2.18, 2.18, 7.87, 7.87, 7.87, 7.87,...\n",
      "$ chas    <int> 0, 0, 0, 0, 0, 0, 0, 0, 0, 0, 0, 0, 0, 0, 0, 0, 0, 0, 0, 0,...\n",
      "$ nox     <dbl> 0.538, 0.469, 0.469, 0.458, 0.458, 0.458, 0.524, 0.524, 0.5...\n",
      "$ rm      <dbl> 6.575, 6.421, 7.185, 6.998, 7.147, 6.430, 6.012, 6.172, 5.6...\n",
      "$ age     <dbl> 65.2, 78.9, 61.1, 45.8, 54.2, 58.7, 66.6, 96.1, 100.0, 85.9...\n",
      "$ dis     <dbl> 4.0900, 4.9671, 4.9671, 6.0622, 6.0622, 6.0622, 5.5605, 5.9...\n",
      "$ rad     <int> 1, 2, 2, 3, 3, 3, 5, 5, 5, 5, 5, 5, 5, 4, 4, 4, 4, 4, 4, 4,...\n",
      "$ tax     <dbl> 296, 242, 242, 222, 222, 222, 311, 311, 311, 311, 311, 311,...\n",
      "$ ptratio <dbl> 15.3, 17.8, 17.8, 18.7, 18.7, 18.7, 15.2, 15.2, 15.2, 15.2,...\n",
      "$ black   <dbl> 396.90, 396.90, 392.83, 394.63, 396.90, 394.12, 395.60, 396...\n",
      "$ lstat   <dbl> 4.98, 9.14, 4.03, 2.94, 5.33, 5.21, 12.43, 19.15, 29.93, 17...\n",
      "$ medv    <dbl> 24.0, 21.6, 34.7, 33.4, 36.2, 28.7, 22.9, 27.1, 16.5, 18.9,...\n"
     ]
    }
   ],
   "source": [
    "#a look at structure of the data set\n",
    "glimpse(Boston)"
   ]
  },
  {
   "cell_type": "code",
   "execution_count": 5,
   "metadata": {},
   "outputs": [
    {
     "data": {
      "text/plain": [
       "      crim                zn             indus            chas        \n",
       " Min.   : 0.00632   Min.   :  0.00   Min.   : 0.46   Min.   :0.00000  \n",
       " 1st Qu.: 0.08204   1st Qu.:  0.00   1st Qu.: 5.19   1st Qu.:0.00000  \n",
       " Median : 0.25651   Median :  0.00   Median : 9.69   Median :0.00000  \n",
       " Mean   : 3.61352   Mean   : 11.36   Mean   :11.14   Mean   :0.06917  \n",
       " 3rd Qu.: 3.67708   3rd Qu.: 12.50   3rd Qu.:18.10   3rd Qu.:0.00000  \n",
       " Max.   :88.97620   Max.   :100.00   Max.   :27.74   Max.   :1.00000  \n",
       "      nox               rm             age              dis        \n",
       " Min.   :0.3850   Min.   :3.561   Min.   :  2.90   Min.   : 1.130  \n",
       " 1st Qu.:0.4490   1st Qu.:5.886   1st Qu.: 45.02   1st Qu.: 2.100  \n",
       " Median :0.5380   Median :6.208   Median : 77.50   Median : 3.207  \n",
       " Mean   :0.5547   Mean   :6.285   Mean   : 68.57   Mean   : 3.795  \n",
       " 3rd Qu.:0.6240   3rd Qu.:6.623   3rd Qu.: 94.08   3rd Qu.: 5.188  \n",
       " Max.   :0.8710   Max.   :8.780   Max.   :100.00   Max.   :12.127  \n",
       "      rad              tax           ptratio          black       \n",
       " Min.   : 1.000   Min.   :187.0   Min.   :12.60   Min.   :  0.32  \n",
       " 1st Qu.: 4.000   1st Qu.:279.0   1st Qu.:17.40   1st Qu.:375.38  \n",
       " Median : 5.000   Median :330.0   Median :19.05   Median :391.44  \n",
       " Mean   : 9.549   Mean   :408.2   Mean   :18.46   Mean   :356.67  \n",
       " 3rd Qu.:24.000   3rd Qu.:666.0   3rd Qu.:20.20   3rd Qu.:396.23  \n",
       " Max.   :24.000   Max.   :711.0   Max.   :22.00   Max.   :396.90  \n",
       "     lstat            medv      \n",
       " Min.   : 1.73   Min.   : 5.00  \n",
       " 1st Qu.: 6.95   1st Qu.:17.02  \n",
       " Median :11.36   Median :21.20  \n",
       " Mean   :12.65   Mean   :22.53  \n",
       " 3rd Qu.:16.95   3rd Qu.:25.00  \n",
       " Max.   :37.97   Max.   :50.00  "
      ]
     },
     "metadata": {},
     "output_type": "display_data"
    }
   ],
   "source": [
    "#summary statistics\n",
    "summary(Boston)"
   ]
  },
  {
   "cell_type": "code",
   "execution_count": 6,
   "metadata": {},
   "outputs": [
    {
     "data": {
      "text/html": [
       "0"
      ],
      "text/latex": [
       "0"
      ],
      "text/markdown": [
       "0"
      ],
      "text/plain": [
       "[1] 0"
      ]
     },
     "metadata": {},
     "output_type": "display_data"
    }
   ],
   "source": [
    "#Check for missing values\n",
    "sum(is.na(Boston))"
   ]
  },
  {
   "cell_type": "code",
   "execution_count": 7,
   "metadata": {},
   "outputs": [
    {
     "data": {
      "text/html": [
       "0"
      ],
      "text/latex": [
       "0"
      ],
      "text/markdown": [
       "0"
      ],
      "text/plain": [
       "[1] 0"
      ]
     },
     "metadata": {},
     "output_type": "display_data"
    }
   ],
   "source": [
    "#Check for duplicated values\n",
    "sum(duplicated(Boston))"
   ]
  },
  {
   "cell_type": "code",
   "execution_count": 8,
   "metadata": {},
   "outputs": [
    {
     "data": {
      "image/png": "[encoded data removed]",
      "text/plain": [
       "Plot with title \"\""
      ]
     },
     "metadata": {},
     "output_type": "display_data"
    }
   ],
   "source": [
    "#checking correlation between variables\n",
    "corrplot(cor(Boston), method = \"number\", type = \"upper\", diag = FALSE)"
   ]
  },
  {
   "cell_type": "markdown",
   "metadata": {},
   "source": [
    "There are no missing or duplicate values.\n",
    "\n",
    "From correlation matrix, some of the observations made are as follows:\n",
    "\n",
    "Median value of owner-occupied homes (in 1000$) increases as average number of rooms per dwelling increases and it decreases if percent of lower status population in the area increases\n",
    "nox or nitrogen oxides concentration (ppm) increases with increase in proportion of non-retail business acres per town and proportion of owner-occupied units built prior to 1940.\n",
    "rad and tax have a strong positive correlation of 0.91 which implies that as accessibility of radial highways increases, the full value property-tax rate per $10,000 also increases.\n",
    "crim is strongly associated with variables rad and tax which implies as accessibility to radial highways increases, per capita crime rate increases.\n",
    "indus has strong positive correlation with nox, which supports the notion that nitrogen oxides concentration is high in industrial areas."
   ]
  },
  {
   "cell_type": "code",
   "execution_count": 9,
   "metadata": {},
   "outputs": [
    {
     "data": {
      "image/png": "[encoded data removed]",
      "text/plain": [
       "plot without title"
      ]
     },
     "metadata": {},
     "output_type": "display_data"
    }
   ],
   "source": [
    "Boston %>%\n",
    "  gather(key, val, -medv) %>%\n",
    "  ggplot(aes(x = val, y = medv)) +\n",
    "  geom_point() +\n",
    "  stat_smooth(method = \"lm\", se = TRUE, col = \"blue\") +\n",
    "  facet_wrap(~key, scales = \"free\") +\n",
    "  theme_gray() +\n",
    "  ggtitle(\"Scatter plot of dependent variables vs Median Value (medv)\") "
   ]
  },
  {
   "cell_type": "code",
   "execution_count": 10,
   "metadata": {},
   "outputs": [
    {
     "data": {
      "text/plain": [
       "\n",
       "  0   1 \n",
       "471  35 "
      ]
     },
     "metadata": {},
     "output_type": "display_data"
    }
   ],
   "source": [
    "table(Boston$chas)"
   ]
  },
  {
   "cell_type": "markdown",
   "metadata": {},
   "source": [
    "Observations * Proportion of owner occupied units built prior to 1940 (age) and proportion of blacks by town (black) is heavily skewed to left, while per capita crime rate in town (crim) and weighted mean of distances to five Boston employment centres (dis) is heavily skewed to right. * rm is normally distributed with mean of approximately 6. * Most of the properties are situated close to the five Boston employment centres (dis skewed to right) * There is a high proportion of owner occupied units built prior to 1940 (age skewed to left) and blacks in town (black skewed to right) * From scatter plots, it is seen that lstat and rm show strong correlation with medv. * 93% of the properties are away from Charles river. The properties bordering the river seems to have higher median prices."
   ]
  },
  {
   "cell_type": "code",
   "execution_count": 11,
   "metadata": {},
   "outputs": [],
   "source": [
    "#Split data set into 80:20 train and test data\n",
    "set.seed(12383010)\n",
    "index <- sample(nrow(Boston), nrow(Boston) * 0.80)\n",
    "Boston.train <- Boston[index, ]\n",
    "Boston.test <- Boston[-index, ]"
   ]
  },
  {
   "cell_type": "code",
   "execution_count": 12,
   "metadata": {},
   "outputs": [
    {
     "data": {
      "text/plain": [
       "\n",
       "Call:\n",
       "lm(formula = medv ~ ., data = Boston.train)\n",
       "\n",
       "Residuals:\n",
       "     Min       1Q   Median       3Q      Max \n",
       "-11.0047  -2.8339  -0.5728   1.7445  25.3953 \n",
       "\n",
       "Coefficients:\n",
       "              Estimate Std. Error t value Pr(>|t|)    \n",
       "(Intercept)  3.610e+01  5.768e+00   6.259 1.02e-09 ***\n",
       "crim        -1.215e-01  3.382e-02  -3.591 0.000371 ***\n",
       "zn           5.281e-02  1.525e-02   3.463 0.000594 ***\n",
       "indus       -1.819e-02  6.878e-02  -0.265 0.791514    \n",
       "chas         3.210e+00  9.817e-01   3.270 0.001171 ** \n",
       "nox         -1.599e+01  4.358e+00  -3.668 0.000279 ***\n",
       "rm           3.800e+00  4.743e-01   8.013 1.31e-14 ***\n",
       "age         -3.628e-04  1.467e-02  -0.025 0.980285    \n",
       "dis         -1.593e+00  2.302e-01  -6.918 1.88e-11 ***\n",
       "rad          3.053e-01  7.538e-02   4.050 6.18e-05 ***\n",
       "tax         -1.032e-02  4.328e-03  -2.384 0.017604 *  \n",
       "ptratio     -9.900e-01  1.472e-01  -6.727 6.19e-11 ***\n",
       "black        1.094e-02  2.964e-03   3.693 0.000254 ***\n",
       "lstat       -5.476e-01  5.455e-02 -10.037  < 2e-16 ***\n",
       "---\n",
       "Signif. codes:  0 '***' 0.001 '**' 0.01 '*' 0.05 '.' 0.1 ' ' 1\n",
       "\n",
       "Residual standard error: 4.683 on 390 degrees of freedom\n",
       "Multiple R-squared:  0.7521,\tAdjusted R-squared:  0.7438 \n",
       "F-statistic: 91.01 on 13 and 390 DF,  p-value: < 2.2e-16\n"
      ]
     },
     "metadata": {},
     "output_type": "display_data"
    }
   ],
   "source": [
    "#Building linear regression model\n",
    "model1 <- lm(medv ~ ., data = Boston.train)\n",
    "model1.sum <- summary(model1)\n",
    "model1.sum"
   ]
  },
  {
   "cell_type": "code",
   "execution_count": 13,
   "metadata": {},
   "outputs": [
    {
     "data": {
      "text/plain": [
       "\n",
       "Call:\n",
       "lm(formula = medv ~ . - indus - age, data = Boston.train)\n",
       "\n",
       "Residuals:\n",
       "     Min       1Q   Median       3Q      Max \n",
       "-11.0002  -2.8485  -0.6089   1.7698  25.3853 \n",
       "\n",
       "Coefficients:\n",
       "              Estimate Std. Error t value Pr(>|t|)    \n",
       "(Intercept)  36.148529   5.733495   6.305 7.78e-10 ***\n",
       "crim         -0.121210   0.033721  -3.595 0.000366 ***\n",
       "zn            0.053167   0.014978   3.550 0.000432 ***\n",
       "chas          3.187065   0.973585   3.274 0.001156 ** \n",
       "nox         -16.334688   4.038167  -4.045 6.30e-05 ***\n",
       "rm            3.814982   0.459951   8.294 1.77e-15 ***\n",
       "dis          -1.576333   0.212513  -7.418 7.45e-13 ***\n",
       "rad           0.310182   0.072752   4.264 2.52e-05 ***\n",
       "tax          -0.010749   0.004001  -2.686 0.007532 ** \n",
       "ptratio      -0.995274   0.144709  -6.878 2.41e-11 ***\n",
       "black         0.010957   0.002951   3.713 0.000235 ***\n",
       "lstat        -0.548726   0.051553 -10.644  < 2e-16 ***\n",
       "---\n",
       "Signif. codes:  0 '***' 0.001 '**' 0.01 '*' 0.05 '.' 0.1 ' ' 1\n",
       "\n",
       "Residual standard error: 4.671 on 392 degrees of freedom\n",
       "Multiple R-squared:  0.7521,\tAdjusted R-squared:  0.7451 \n",
       "F-statistic: 108.1 on 11 and 392 DF,  p-value: < 2.2e-16\n"
      ]
     },
     "metadata": {},
     "output_type": "display_data"
    }
   ],
   "source": [
    "#Looking at model summary, we see that variables indus and age are insignificant\n",
    "#Building model without variables indus and age\n",
    "model2 <- lm(medv ~ . -indus -age, data = Boston.train)\n",
    "model2.sum <- summary(model2)\n",
    "model2.sum"
   ]
  },
  {
   "cell_type": "code",
   "execution_count": 14,
   "metadata": {},
   "outputs": [
    {
     "data": {
      "text/plain": [
       "Subset selection object\n",
       "Call: regsubsets.formula(medv ~ ., data = Boston.train, nbest = 1, \n",
       "    nvmax = 13)\n",
       "13 Variables  (and intercept)\n",
       "        Forced in Forced out\n",
       "crim        FALSE      FALSE\n",
       "zn          FALSE      FALSE\n",
       "indus       FALSE      FALSE\n",
       "chas        FALSE      FALSE\n",
       "nox         FALSE      FALSE\n",
       "rm          FALSE      FALSE\n",
       "age         FALSE      FALSE\n",
       "dis         FALSE      FALSE\n",
       "rad         FALSE      FALSE\n",
       "tax         FALSE      FALSE\n",
       "ptratio     FALSE      FALSE\n",
       "black       FALSE      FALSE\n",
       "lstat       FALSE      FALSE\n",
       "1 subsets of each size up to 13\n",
       "Selection Algorithm: exhaustive\n",
       "          crim zn  indus chas nox rm  age dis rad tax ptratio black lstat\n",
       "1  ( 1 )  \" \"  \" \" \" \"   \" \"  \" \" \" \" \" \" \" \" \" \" \" \" \" \"     \" \"   \"*\"  \n",
       "2  ( 1 )  \" \"  \" \" \" \"   \" \"  \" \" \"*\" \" \" \" \" \" \" \" \" \" \"     \" \"   \"*\"  \n",
       "3  ( 1 )  \" \"  \" \" \" \"   \" \"  \" \" \"*\" \" \" \" \" \" \" \" \" \"*\"     \" \"   \"*\"  \n",
       "4  ( 1 )  \" \"  \" \" \" \"   \" \"  \" \" \"*\" \" \" \"*\" \" \" \" \" \"*\"     \" \"   \"*\"  \n",
       "5  ( 1 )  \" \"  \" \" \" \"   \" \"  \" \" \"*\" \" \" \"*\" \" \" \" \" \"*\"     \"*\"   \"*\"  \n",
       "6  ( 1 )  \" \"  \" \" \" \"   \" \"  \"*\" \"*\" \" \" \"*\" \" \" \" \" \"*\"     \"*\"   \"*\"  \n",
       "7  ( 1 )  \" \"  \" \" \" \"   \"*\"  \"*\" \"*\" \" \" \"*\" \" \" \" \" \"*\"     \"*\"   \"*\"  \n",
       "8  ( 1 )  \" \"  \"*\" \" \"   \"*\"  \"*\" \"*\" \" \" \"*\" \" \" \" \" \"*\"     \"*\"   \"*\"  \n",
       "9  ( 1 )  \"*\"  \" \" \" \"   \"*\"  \"*\" \"*\" \" \" \"*\" \"*\" \" \" \"*\"     \"*\"   \"*\"  \n",
       "10  ( 1 ) \"*\"  \"*\" \" \"   \"*\"  \"*\" \"*\" \" \" \"*\" \"*\" \" \" \"*\"     \"*\"   \"*\"  \n",
       "11  ( 1 ) \"*\"  \"*\" \" \"   \"*\"  \"*\" \"*\" \" \" \"*\" \"*\" \"*\" \"*\"     \"*\"   \"*\"  \n",
       "12  ( 1 ) \"*\"  \"*\" \"*\"   \"*\"  \"*\" \"*\" \" \" \"*\" \"*\" \"*\" \"*\"     \"*\"   \"*\"  \n",
       "13  ( 1 ) \"*\"  \"*\" \"*\"   \"*\"  \"*\" \"*\" \"*\" \"*\" \"*\" \"*\" \"*\"     \"*\"   \"*\"  "
      ]
     },
     "metadata": {},
     "output_type": "display_data"
    }
   ],
   "source": [
    "#Variable Selection using best subset regression\n",
    "model.subset <- regsubsets(medv ~ ., data = Boston.train, nbest = 1, nvmax = 13)\n",
    "summary(model.subset)"
   ]
  },
  {
   "cell_type": "code",
   "execution_count": 15,
   "metadata": {},
   "outputs": [
    {
     "data": {
      "image/png": "[encoded data removed]",
      "text/plain": [
       "plot without title"
      ]
     },
     "metadata": {},
     "output_type": "display_data"
    }
   ],
   "source": [
    "plot(model.subset, scale = \"bic\")"
   ]
  },
  {
   "cell_type": "code",
   "execution_count": 16,
   "metadata": {},
   "outputs": [
    {
     "name": "stdout",
     "output_type": "stream",
     "text": [
      "Start:  AIC=1798.7\n",
      "medv ~ 1\n",
      "\n",
      "          Df Sum of Sq   RSS    AIC\n",
      "+ lstat    1   19010.9 15489 1477.2\n",
      "+ rm       1   16593.6 17906 1535.8\n",
      "+ ptratio  1    8819.9 25680 1681.4\n",
      "+ indus    1    8071.4 26428 1693.0\n",
      "+ tax      1    6945.5 27554 1709.9\n",
      "+ nox      1    6463.6 28036 1716.9\n",
      "+ age      1    5154.1 29346 1735.3\n",
      "+ zn       1    5005.4 29494 1737.4\n",
      "+ crim     1    4831.2 29668 1739.8\n",
      "+ rad      1    4363.4 30136 1746.1\n",
      "+ black    1    4047.4 30452 1750.3\n",
      "+ dis      1    2113.7 32386 1775.2\n",
      "+ chas     1    1007.6 33492 1788.7\n",
      "<none>                 34500 1798.7\n",
      "\n",
      "Step:  AIC=1477.17\n",
      "medv ~ lstat\n",
      "\n",
      "          Df Sum of Sq   RSS    AIC\n",
      "+ rm       1    3263.3 12225 1383.6\n",
      "+ ptratio  1    1996.0 13493 1423.4\n",
      "+ dis      1     590.0 14899 1463.5\n",
      "+ chas     1     535.6 14953 1465.0\n",
      "+ black    1     257.2 15232 1472.4\n",
      "+ tax      1     180.6 15308 1474.4\n",
      "+ crim     1     170.7 15318 1474.7\n",
      "+ zn       1     167.0 15322 1474.8\n",
      "+ age      1     158.7 15330 1475.0\n",
      "+ indus    1      98.4 15390 1476.6\n",
      "<none>                 15489 1477.2\n",
      "+ rad      1       7.2 15482 1479.0\n",
      "+ nox      1       4.7 15484 1479.0\n",
      "\n",
      "Step:  AIC=1383.58\n",
      "medv ~ lstat + rm\n",
      "\n",
      "          Df Sum of Sq   RSS    AIC\n",
      "+ ptratio  1   1276.75 10949 1341.0\n",
      "+ chas     1    534.37 11691 1367.5\n",
      "+ black    1    465.37 11760 1369.9\n",
      "+ crim     1    309.84 11916 1375.2\n",
      "+ dis      1    306.99 11918 1375.3\n",
      "+ tax      1    204.30 12021 1378.8\n",
      "+ rad      1     70.21 12155 1383.3\n",
      "<none>                 12225 1383.6\n",
      "+ zn       1     39.83 12186 1384.3\n",
      "+ indus    1     19.99 12205 1384.9\n",
      "+ age      1     15.28 12210 1385.1\n",
      "+ nox      1      0.29 12225 1385.6\n",
      "\n",
      "Step:  AIC=1341.02\n",
      "medv ~ lstat + rm + ptratio\n",
      "\n",
      "        Df Sum of Sq   RSS    AIC\n",
      "+ dis    1    491.09 10458 1324.5\n",
      "+ chas   1    399.44 10549 1328.0\n",
      "+ black  1    379.19 10570 1328.8\n",
      "+ crim   1    139.76 10809 1337.8\n",
      "+ age    1     83.49 10865 1339.9\n",
      "<none>               10949 1341.0\n",
      "+ rad    1     28.69 10920 1342.0\n",
      "+ indus  1     10.65 10938 1342.6\n",
      "+ zn     1      9.47 10939 1342.7\n",
      "+ tax    1      3.43 10945 1342.9\n",
      "+ nox    1      0.35 10948 1343.0\n",
      "\n",
      "Step:  AIC=1324.48\n",
      "medv ~ lstat + rm + ptratio + dis\n",
      "\n",
      "        Df Sum of Sq     RSS    AIC\n",
      "+ black  1    519.11  9938.5 1305.9\n",
      "+ nox    1    508.02  9949.5 1306.4\n",
      "+ chas   1    276.44 10181.1 1315.7\n",
      "+ crim   1    265.31 10192.2 1316.1\n",
      "+ indus  1    187.10 10270.5 1319.2\n",
      "+ zn     1    161.50 10296.1 1320.2\n",
      "+ tax    1    112.11 10345.5 1322.1\n",
      "<none>               10457.6 1324.5\n",
      "+ age    1     49.15 10408.4 1324.6\n",
      "+ rad    1      4.46 10453.1 1326.3\n",
      "\n",
      "Step:  AIC=1305.91\n",
      "medv ~ lstat + rm + ptratio + dis + black\n",
      "\n",
      "        Df Sum of Sq    RSS    AIC\n",
      "+ nox    1    329.61 9608.8 1294.3\n",
      "+ chas   1    253.01 9685.4 1297.5\n",
      "+ zn     1    199.65 9738.8 1299.7\n",
      "+ crim   1    114.02 9824.4 1303.2\n",
      "+ indus  1    109.94 9828.5 1303.4\n",
      "+ age    1     62.12 9876.3 1305.4\n",
      "<none>               9938.5 1305.9\n",
      "+ rad    1     25.59 9912.9 1306.9\n",
      "+ tax    1     16.68 9921.8 1307.2\n",
      "\n",
      "Step:  AIC=1294.29\n",
      "medv ~ lstat + rm + ptratio + dis + black + nox\n",
      "\n",
      "        Df Sum of Sq    RSS    AIC\n",
      "+ chas   1   290.039 9318.8 1283.9\n",
      "+ zn     1   205.757 9403.1 1287.5\n",
      "+ rad    1   165.887 9443.0 1289.2\n",
      "+ crim   1    87.673 9521.2 1292.6\n",
      "<none>               9608.8 1294.3\n",
      "+ tax    1    21.043 9587.8 1295.4\n",
      "+ age    1    11.465 9597.4 1295.8\n",
      "+ indus  1     7.844 9601.0 1296.0\n",
      "\n",
      "Step:  AIC=1283.9\n",
      "medv ~ lstat + rm + ptratio + dis + black + nox + chas\n",
      "\n",
      "        Df Sum of Sq    RSS    AIC\n",
      "+ zn     1   218.346 9100.5 1276.3\n",
      "+ rad    1   167.155 9151.6 1278.6\n",
      "+ crim   1    73.320 9245.5 1282.7\n",
      "<none>               9318.8 1283.9\n",
      "+ tax    1    30.910 9287.9 1284.6\n",
      "+ age    1    20.853 9297.9 1285.0\n",
      "+ indus  1    12.436 9306.4 1285.4\n",
      "\n",
      "Step:  AIC=1276.32\n",
      "medv ~ lstat + rm + ptratio + dis + black + nox + chas + zn\n",
      "\n",
      "        Df Sum of Sq    RSS    AIC\n",
      "+ crim   1   116.061 8984.4 1273.1\n",
      "+ rad    1   115.374 8985.1 1273.2\n",
      "<none>               9100.5 1276.3\n",
      "+ indus  1    15.346 9085.1 1277.6\n",
      "+ age    1     4.166 9096.3 1278.1\n",
      "+ tax    1     3.981 9096.5 1278.2\n",
      "\n",
      "Step:  AIC=1273.14\n",
      "medv ~ lstat + rm + ptratio + dis + black + nox + chas + zn + \n",
      "    crim\n",
      "\n",
      "        Df Sum of Sq    RSS    AIC\n",
      "+ rad    1   272.808 8711.6 1262.7\n",
      "<none>               8984.4 1273.1\n",
      "+ tax    1    33.608 8950.8 1273.6\n",
      "+ indus  1    14.016 8970.4 1274.5\n",
      "+ age    1     5.794 8978.6 1274.9\n",
      "\n",
      "Step:  AIC=1262.68\n",
      "medv ~ lstat + rm + ptratio + dis + black + nox + chas + zn + \n",
      "    crim + rad\n",
      "\n",
      "        Df Sum of Sq    RSS    AIC\n",
      "+ tax    1   157.469 8554.1 1257.3\n",
      "<none>               8711.6 1262.7\n",
      "+ indus  1    34.108 8677.5 1263.1\n",
      "+ age    1     0.455 8711.1 1264.7\n",
      "\n",
      "Step:  AIC=1257.31\n",
      "medv ~ lstat + rm + ptratio + dis + black + nox + chas + zn + \n",
      "    crim + rad + tax\n",
      "\n",
      "        Df Sum of Sq    RSS    AIC\n",
      "<none>               8554.1 1257.3\n",
      "+ indus  1   1.53746 8552.6 1259.2\n",
      "+ age    1   0.01636 8554.1 1259.3\n"
     ]
    }
   ],
   "source": [
    "#Variable selection using stepwise regression\n",
    "nullmodel <- lm(medv ~ 1, data = Boston.train)\n",
    "fullmodel <- lm(medv ~ ., data = Boston.train)\n",
    "\n",
    "#forward selection\n",
    "model.step.f <- step(nullmodel, scope = list(lower = nullmodel, upper = fullmodel), direction = \"forward\")"
   ]
  },
  {
   "cell_type": "code",
   "execution_count": 17,
   "metadata": {},
   "outputs": [
    {
     "name": "stdout",
     "output_type": "stream",
     "text": [
      "Start:  AIC=1261.24\n",
      "medv ~ crim + zn + indus + chas + nox + rm + age + dis + rad + \n",
      "    tax + ptratio + black + lstat\n",
      "\n",
      "          Df Sum of Sq     RSS    AIC\n",
      "- age      1      0.01  8552.6 1259.2\n",
      "- indus    1      1.53  8554.1 1259.3\n",
      "<none>                  8552.6 1261.2\n",
      "- tax      1    124.64  8677.2 1265.1\n",
      "- chas     1    234.50  8787.1 1270.2\n",
      "- zn       1    262.95  8815.5 1271.5\n",
      "- crim     1    282.86  8835.4 1272.4\n",
      "- nox      1    295.00  8847.6 1272.9\n",
      "- black    1    299.03  8851.6 1273.1\n",
      "- rad      1    359.71  8912.3 1275.9\n",
      "- ptratio  1    992.36  9544.9 1303.6\n",
      "- dis      1   1049.58  9602.1 1306.0\n",
      "- rm       1   1408.05  9960.6 1320.8\n",
      "- lstat    1   2209.39 10762.0 1352.1\n",
      "\n",
      "Step:  AIC=1259.24\n",
      "medv ~ crim + zn + indus + chas + nox + rm + dis + rad + tax + \n",
      "    ptratio + black + lstat\n",
      "\n",
      "          Df Sum of Sq     RSS    AIC\n",
      "- indus    1      1.54  8554.1 1257.3\n",
      "<none>                  8552.6 1259.2\n",
      "- tax      1    124.90  8677.5 1263.1\n",
      "- chas     1    235.38  8788.0 1268.2\n",
      "- zn       1    270.48  8823.1 1269.8\n",
      "- crim     1    282.95  8835.5 1270.4\n",
      "- black    1    299.77  8852.3 1271.2\n",
      "- nox      1    314.50  8867.1 1271.8\n",
      "- rad      1    363.22  8915.8 1274.0\n",
      "- ptratio  1   1006.40  9559.0 1302.2\n",
      "- dis      1   1145.39  9698.0 1308.0\n",
      "- rm       1   1460.10 10012.7 1320.9\n",
      "- lstat    1   2458.91 11011.5 1359.3\n",
      "\n",
      "Step:  AIC=1257.31\n",
      "medv ~ crim + zn + chas + nox + rm + dis + rad + tax + ptratio + \n",
      "    black + lstat\n",
      "\n",
      "          Df Sum of Sq     RSS    AIC\n",
      "<none>                  8554.1 1257.3\n",
      "- tax      1    157.47  8711.6 1262.7\n",
      "- chas     1    233.84  8788.0 1266.2\n",
      "- zn       1    274.97  8829.1 1268.1\n",
      "- crim     1    281.95  8836.1 1268.4\n",
      "- black    1    300.81  8854.9 1269.3\n",
      "- nox      1    357.06  8911.2 1271.8\n",
      "- rad      1    396.67  8950.8 1273.6\n",
      "- ptratio  1   1032.24  9586.4 1301.3\n",
      "- dis      1   1200.64  9754.8 1308.4\n",
      "- rm       1   1501.25 10055.4 1320.6\n",
      "- lstat    1   2472.28 11026.4 1357.9\n"
     ]
    }
   ],
   "source": [
    "#Backward selection\n",
    "model.step.b <- step(fullmodel, direction = \"backward\")"
   ]
  },
  {
   "cell_type": "code",
   "execution_count": 18,
   "metadata": {},
   "outputs": [
    {
     "name": "stdout",
     "output_type": "stream",
     "text": [
      "Start:  AIC=1798.7\n",
      "medv ~ 1\n",
      "\n",
      "          Df Sum of Sq   RSS    AIC\n",
      "+ lstat    1   19010.9 15489 1477.2\n",
      "+ rm       1   16593.6 17906 1535.8\n",
      "+ ptratio  1    8819.9 25680 1681.4\n",
      "+ indus    1    8071.4 26428 1693.0\n",
      "+ tax      1    6945.5 27554 1709.9\n",
      "+ nox      1    6463.6 28036 1716.9\n",
      "+ age      1    5154.1 29346 1735.3\n",
      "+ zn       1    5005.4 29494 1737.4\n",
      "+ crim     1    4831.2 29668 1739.8\n",
      "+ rad      1    4363.4 30136 1746.1\n",
      "+ black    1    4047.4 30452 1750.3\n",
      "+ dis      1    2113.7 32386 1775.2\n",
      "+ chas     1    1007.6 33492 1788.7\n",
      "<none>                 34500 1798.7\n",
      "\n",
      "Step:  AIC=1477.17\n",
      "medv ~ lstat\n",
      "\n",
      "          Df Sum of Sq   RSS    AIC\n",
      "+ rm       1    3263.3 12225 1383.6\n",
      "+ ptratio  1    1996.0 13493 1423.4\n",
      "+ dis      1     590.0 14899 1463.5\n",
      "+ chas     1     535.6 14953 1465.0\n",
      "+ black    1     257.2 15232 1472.4\n",
      "+ tax      1     180.6 15308 1474.4\n",
      "+ crim     1     170.7 15318 1474.7\n",
      "+ zn       1     167.0 15322 1474.8\n",
      "+ age      1     158.7 15330 1475.0\n",
      "+ indus    1      98.4 15390 1476.6\n",
      "<none>                 15489 1477.2\n",
      "+ rad      1       7.2 15482 1479.0\n",
      "+ nox      1       4.7 15484 1479.0\n",
      "- lstat    1   19010.9 34500 1798.7\n",
      "\n",
      "Step:  AIC=1383.58\n",
      "medv ~ lstat + rm\n",
      "\n",
      "          Df Sum of Sq   RSS    AIC\n",
      "+ ptratio  1    1276.8 10949 1341.0\n",
      "+ chas     1     534.4 11691 1367.5\n",
      "+ black    1     465.4 11760 1369.9\n",
      "+ crim     1     309.8 11916 1375.2\n",
      "+ dis      1     307.0 11918 1375.3\n",
      "+ tax      1     204.3 12021 1378.8\n",
      "+ rad      1      70.2 12155 1383.3\n",
      "<none>                 12225 1383.6\n",
      "+ zn       1      39.8 12186 1384.3\n",
      "+ indus    1      20.0 12205 1384.9\n",
      "+ age      1      15.3 12210 1385.1\n",
      "+ nox      1       0.3 12225 1385.6\n",
      "- rm       1    3263.3 15489 1477.2\n",
      "- lstat    1    5680.6 17906 1535.8\n",
      "\n",
      "Step:  AIC=1341.02\n",
      "medv ~ lstat + rm + ptratio\n",
      "\n",
      "          Df Sum of Sq   RSS    AIC\n",
      "+ dis      1     491.1 10458 1324.5\n",
      "+ chas     1     399.4 10549 1328.0\n",
      "+ black    1     379.2 10570 1328.8\n",
      "+ crim     1     139.8 10809 1337.8\n",
      "+ age      1      83.5 10865 1339.9\n",
      "<none>                 10949 1341.0\n",
      "+ rad      1      28.7 10920 1342.0\n",
      "+ indus    1      10.6 10938 1342.6\n",
      "+ zn       1       9.5 10939 1342.7\n",
      "+ tax      1       3.4 10945 1342.9\n",
      "+ nox      1       0.3 10948 1343.0\n",
      "- ptratio  1    1276.8 12225 1383.6\n",
      "- rm       1    2544.0 13493 1423.4\n",
      "- lstat    1    4267.1 15216 1472.0\n",
      "\n",
      "Step:  AIC=1324.48\n",
      "medv ~ lstat + rm + ptratio + dis\n",
      "\n",
      "          Df Sum of Sq     RSS    AIC\n",
      "+ black    1     519.1  9938.5 1305.9\n",
      "+ nox      1     508.0  9949.5 1306.4\n",
      "+ chas     1     276.4 10181.1 1315.7\n",
      "+ crim     1     265.3 10192.2 1316.1\n",
      "+ indus    1     187.1 10270.5 1319.2\n",
      "+ zn       1     161.5 10296.1 1320.2\n",
      "+ tax      1     112.1 10345.5 1322.1\n",
      "<none>                 10457.6 1324.5\n",
      "+ age      1      49.2 10408.4 1324.6\n",
      "+ rad      1       4.5 10453.1 1326.3\n",
      "- dis      1     491.1 10948.6 1341.0\n",
      "- ptratio  1    1460.8 11918.4 1375.3\n",
      "- rm       1    2193.1 12650.6 1399.4\n",
      "- lstat    1    4686.3 15143.9 1472.1\n",
      "\n",
      "Step:  AIC=1305.91\n",
      "medv ~ lstat + rm + ptratio + dis + black\n",
      "\n",
      "          Df Sum of Sq     RSS    AIC\n",
      "+ nox      1     329.6  9608.8 1294.3\n",
      "+ chas     1     253.0  9685.4 1297.5\n",
      "+ zn       1     199.7  9738.8 1299.7\n",
      "+ crim     1     114.0  9824.4 1303.2\n",
      "+ indus    1     109.9  9828.5 1303.4\n",
      "+ age      1      62.1  9876.3 1305.4\n",
      "<none>                  9938.5 1305.9\n",
      "+ rad      1      25.6  9912.9 1306.9\n",
      "+ tax      1      16.7  9921.8 1307.2\n",
      "- black    1     519.1 10457.6 1324.5\n",
      "- dis      1     631.0 10569.5 1328.8\n",
      "- ptratio  1    1385.5 11323.9 1356.6\n",
      "- rm       1    2360.4 12298.8 1390.0\n",
      "- lstat    1    3728.3 13666.8 1432.6\n",
      "\n",
      "Step:  AIC=1294.29\n",
      "medv ~ lstat + rm + ptratio + dis + black + nox\n",
      "\n",
      "          Df Sum of Sq     RSS    AIC\n",
      "+ chas     1    290.04  9318.8 1283.9\n",
      "+ zn       1    205.76  9403.1 1287.5\n",
      "+ rad      1    165.89  9443.0 1289.2\n",
      "+ crim     1     87.67  9521.2 1292.6\n",
      "<none>                  9608.8 1294.3\n",
      "+ tax      1     21.04  9587.8 1295.4\n",
      "+ age      1     11.46  9597.4 1295.8\n",
      "+ indus    1      7.84  9601.0 1296.0\n",
      "- nox      1    329.61  9938.5 1305.9\n",
      "- black    1    340.70  9949.5 1306.4\n",
      "- dis      1    941.78 10550.6 1330.1\n",
      "- ptratio  1   1546.97 11155.8 1352.6\n",
      "- rm       1   2181.41 11790.3 1374.9\n",
      "- lstat    1   2898.14 12507.0 1398.8\n",
      "\n",
      "Step:  AIC=1283.9\n",
      "medv ~ lstat + rm + ptratio + dis + black + nox + chas\n",
      "\n",
      "          Df Sum of Sq     RSS    AIC\n",
      "+ zn       1    218.35  9100.5 1276.3\n",
      "+ rad      1    167.16  9151.6 1278.6\n",
      "+ crim     1     73.32  9245.5 1282.7\n",
      "<none>                  9318.8 1283.9\n",
      "+ tax      1     30.91  9287.9 1284.6\n",
      "+ age      1     20.85  9297.9 1285.0\n",
      "+ indus    1     12.44  9306.4 1285.4\n",
      "- chas     1    290.04  9608.8 1294.3\n",
      "- black    1    312.98  9631.8 1295.2\n",
      "- nox      1    366.65  9685.4 1297.5\n",
      "- dis      1    856.40 10175.2 1317.4\n",
      "- ptratio  1   1400.62 10719.4 1338.5\n",
      "- rm       1   2225.92 11544.7 1368.4\n",
      "- lstat    1   2690.98 12009.8 1384.4\n",
      "\n",
      "Step:  AIC=1276.32\n",
      "medv ~ lstat + rm + ptratio + dis + black + nox + chas + zn\n",
      "\n",
      "          Df Sum of Sq     RSS    AIC\n",
      "+ crim     1    116.06  8984.4 1273.1\n",
      "+ rad      1    115.37  8985.1 1273.2\n",
      "<none>                  9100.5 1276.3\n",
      "+ indus    1     15.35  9085.1 1277.6\n",
      "+ age      1      4.17  9096.3 1278.1\n",
      "+ tax      1      3.98  9096.5 1278.2\n",
      "- zn       1    218.35  9318.8 1283.9\n",
      "- chas     1    302.63  9403.1 1287.5\n",
      "- black    1    342.06  9442.5 1289.2\n",
      "- nox      1    374.12  9474.6 1290.6\n",
      "- dis      1   1073.71 10174.2 1319.4\n",
      "- ptratio  1   1084.96 10185.4 1319.8\n",
      "- rm       1   1896.51 10997.0 1350.8\n",
      "- lstat    1   2720.60 11821.1 1380.0\n",
      "\n",
      "Step:  AIC=1273.14\n",
      "medv ~ lstat + rm + ptratio + dis + black + nox + chas + zn + \n",
      "    crim\n",
      "\n",
      "          Df Sum of Sq     RSS    AIC\n",
      "+ rad      1    272.81  8711.6 1262.7\n",
      "<none>                  8984.4 1273.1\n",
      "+ tax      1     33.61  8950.8 1273.6\n",
      "+ indus    1     14.02  8970.4 1274.5\n",
      "+ age      1      5.79  8978.6 1274.9\n",
      "- crim     1    116.06  9100.5 1276.3\n",
      "- black    1    237.86  9222.3 1281.7\n",
      "- zn       1    261.09  9245.5 1282.7\n",
      "- chas     1    285.61  9270.0 1283.8\n",
      "- nox      1    341.27  9325.7 1286.2\n",
      "- ptratio  1    935.76  9920.2 1311.2\n",
      "- dis      1   1147.28 10131.7 1319.7\n",
      "- rm       1   1929.61 10914.0 1349.7\n",
      "- lstat    1   2478.40 11462.8 1369.6\n",
      "\n",
      "Step:  AIC=1262.68\n",
      "medv ~ lstat + rm + ptratio + dis + black + nox + chas + zn + \n",
      "    crim + rad\n",
      "\n",
      "          Df Sum of Sq     RSS    AIC\n",
      "+ tax      1    157.47  8554.1 1257.3\n",
      "<none>                  8711.6 1262.7\n",
      "+ indus    1     34.11  8677.5 1263.1\n",
      "+ age      1      0.45  8711.1 1264.7\n",
      "- zn       1    203.62  8915.2 1270.0\n",
      "- rad      1    272.81  8984.4 1273.1\n",
      "- crim     1    273.50  8985.1 1273.2\n",
      "- chas     1    273.96  8985.5 1273.2\n",
      "- black    1    315.99  9027.6 1275.1\n",
      "- nox      1    547.13  9258.7 1285.3\n",
      "- dis      1   1153.78  9865.4 1310.9\n",
      "- ptratio  1   1203.11  9914.7 1312.9\n",
      "- rm       1   1733.33 10444.9 1334.0\n",
      "- lstat    1   2468.27 11179.9 1361.5\n",
      "\n",
      "Step:  AIC=1257.31\n",
      "medv ~ lstat + rm + ptratio + dis + black + nox + chas + zn + \n",
      "    crim + rad + tax\n",
      "\n",
      "          Df Sum of Sq     RSS    AIC\n",
      "<none>                  8554.1 1257.3\n",
      "+ indus    1      1.54  8552.6 1259.2\n",
      "+ age      1      0.02  8554.1 1259.3\n",
      "- tax      1    157.47  8711.6 1262.7\n",
      "- chas     1    233.84  8788.0 1266.2\n",
      "- zn       1    274.97  8829.1 1268.1\n",
      "- crim     1    281.95  8836.1 1268.4\n",
      "- black    1    300.81  8854.9 1269.3\n",
      "- nox      1    357.06  8911.2 1271.8\n",
      "- rad      1    396.67  8950.8 1273.6\n",
      "- ptratio  1   1032.24  9586.4 1301.3\n",
      "- dis      1   1200.64  9754.8 1308.4\n",
      "- rm       1   1501.25 10055.4 1320.6\n",
      "- lstat    1   2472.28 11026.4 1357.9\n"
     ]
    }
   ],
   "source": [
    "#stepwise selection\n",
    "model.step <- step(nullmodel, scope = list(lower = nullmodel, upper = fullmodel), direction = \"both\")"
   ]
  },
  {
   "cell_type": "code",
   "execution_count": 19,
   "metadata": {},
   "outputs": [
    {
     "data": {
      "text/html": [
       "2405.8145675668"
      ],
      "text/latex": [
       "2405.8145675668"
      ],
      "text/markdown": [
       "2405.8145675668"
      ],
      "text/plain": [
       "[1] 2405.815"
      ]
     },
     "metadata": {},
     "output_type": "display_data"
    }
   ],
   "source": [
    "AIC(model.step)"
   ]
  },
  {
   "cell_type": "code",
   "execution_count": 20,
   "metadata": {},
   "outputs": [
    {
     "data": {
      "text/html": [
       "2457.83296098029"
      ],
      "text/latex": [
       "2457.83296098029"
      ],
      "text/markdown": [
       "2457.83296098029"
      ],
      "text/plain": [
       "[1] 2457.833"
      ]
     },
     "metadata": {},
     "output_type": "display_data"
    }
   ],
   "source": [
    "BIC(model.step)"
   ]
  },
  {
   "cell_type": "code",
   "execution_count": 21,
   "metadata": {},
   "outputs": [
    {
     "data": {
      "text/plain": [
       "\n",
       "Call:\n",
       "lm(formula = medv ~ lstat + rm + ptratio + dis + black + nox + \n",
       "    chas + zn + crim + rad + tax, data = Boston.train)\n",
       "\n",
       "Residuals:\n",
       "     Min       1Q   Median       3Q      Max \n",
       "-11.0002  -2.8485  -0.6089   1.7698  25.3853 \n",
       "\n",
       "Coefficients:\n",
       "              Estimate Std. Error t value Pr(>|t|)    \n",
       "(Intercept)  36.148529   5.733495   6.305 7.78e-10 ***\n",
       "lstat        -0.548726   0.051553 -10.644  < 2e-16 ***\n",
       "rm            3.814982   0.459951   8.294 1.77e-15 ***\n",
       "ptratio      -0.995274   0.144709  -6.878 2.41e-11 ***\n",
       "dis          -1.576333   0.212513  -7.418 7.45e-13 ***\n",
       "black         0.010957   0.002951   3.713 0.000235 ***\n",
       "nox         -16.334688   4.038167  -4.045 6.30e-05 ***\n",
       "chas          3.187065   0.973585   3.274 0.001156 ** \n",
       "zn            0.053167   0.014978   3.550 0.000432 ***\n",
       "crim         -0.121210   0.033721  -3.595 0.000366 ***\n",
       "rad           0.310182   0.072752   4.264 2.52e-05 ***\n",
       "tax          -0.010749   0.004001  -2.686 0.007532 ** \n",
       "---\n",
       "Signif. codes:  0 '***' 0.001 '**' 0.01 '*' 0.05 '.' 0.1 ' ' 1\n",
       "\n",
       "Residual standard error: 4.671 on 392 degrees of freedom\n",
       "Multiple R-squared:  0.7521,\tAdjusted R-squared:  0.7451 \n",
       "F-statistic: 108.1 on 11 and 392 DF,  p-value: < 2.2e-16\n"
      ]
     },
     "metadata": {},
     "output_type": "display_data"
    }
   ],
   "source": [
    "summary(model.step)"
   ]
  },
  {
   "cell_type": "markdown",
   "metadata": {},
   "source": [
    "From Best subset regression and stepwise selection (forward, backward, both), we see that all variables except indus and age are significant."
   ]
  },
  {
   "cell_type": "code",
   "execution_count": 22,
   "metadata": {},
   "outputs": [
    {
     "data": {
      "image/png": "[encoded data removed]",
      "text/plain": [
       "Plot with title \"\""
      ]
     },
     "metadata": {},
     "output_type": "display_data"
    }
   ],
   "source": [
    "#Model Diagnostics for model 2\n",
    "par(mfrow = c(2,2))\n",
    "plot(model.step)"
   ]
  },
  {
   "cell_type": "code",
   "execution_count": 23,
   "metadata": {},
   "outputs": [],
   "source": [
    "par(mfrow = c(1,1))"
   ]
  },
  {
   "cell_type": "markdown",
   "metadata": {},
   "source": [
    "Residuals vs Fitted plot shows that the relationship between medv and predictors is not completely linear. Also, normal qq plot is skewed implying that residuals are not normally distributed. A different functional from may be required.\n",
    "\n",
    "Models are compared based on adjusted r square, AIC, BIC criteria for in-sample performance and mean square prediction error (MSPE) for out-of-sample performance"
   ]
  },
  {
   "cell_type": "code",
   "execution_count": 24,
   "metadata": {},
   "outputs": [
    {
     "data": {
      "text/html": [
       "21.9296559195476"
      ],
      "text/latex": [
       "21.9296559195476"
      ],
      "text/markdown": [
       "21.9296559195476"
      ],
      "text/plain": [
       "[1] 21.92966"
      ]
     },
     "metadata": {},
     "output_type": "display_data"
    }
   ],
   "source": [
    "#In-sample performance\n",
    "#MSE\n",
    "model.sum <- summary(model1)\n",
    "(model.sum$sigma) ^ 2"
   ]
  },
  {
   "cell_type": "code",
   "execution_count": 25,
   "metadata": {},
   "outputs": [
    {
     "data": {
      "text/html": [
       "21.8217262287543"
      ],
      "text/latex": [
       "21.8217262287543"
      ],
      "text/markdown": [
       "21.8217262287543"
      ],
      "text/plain": [
       "[1] 21.82173"
      ]
     },
     "metadata": {},
     "output_type": "display_data"
    }
   ],
   "source": [
    "model2.sum <- summary(model2)\n",
    "(model2.sum$sigma) ^ 2"
   ]
  },
  {
   "cell_type": "code",
   "execution_count": 26,
   "metadata": {},
   "outputs": [
    {
     "data": {
      "text/html": [
       "0.752096833306203"
      ],
      "text/latex": [
       "0.752096833306203"
      ],
      "text/markdown": [
       "0.752096833306203"
      ],
      "text/plain": [
       "[1] 0.7520968"
      ]
     },
     "metadata": {},
     "output_type": "display_data"
    }
   ],
   "source": [
    "#R-squared\n",
    "model1.sum$r.squared"
   ]
  },
  {
   "cell_type": "code",
   "execution_count": 27,
   "metadata": {},
   "outputs": [
    {
     "data": {
      "text/html": [
       "0.752051879973089"
      ],
      "text/latex": [
       "0.752051879973089"
      ],
      "text/markdown": [
       "0.752051879973089"
      ],
      "text/plain": [
       "[1] 0.7520519"
      ]
     },
     "metadata": {},
     "output_type": "display_data"
    }
   ],
   "source": [
    "model2.sum$r.squared"
   ]
  },
  {
   "cell_type": "code",
   "execution_count": 28,
   "metadata": {},
   "outputs": [
    {
     "data": {
      "text/html": [
       "0.74383339441641"
      ],
      "text/latex": [
       "0.74383339441641"
      ],
      "text/markdown": [
       "0.74383339441641"
      ],
      "text/plain": [
       "[1] 0.7438334"
      ]
     },
     "metadata": {},
     "output_type": "display_data"
    }
   ],
   "source": [
    "#Adjusted r square\n",
    "model1.sum$adj.r.squared"
   ]
  },
  {
   "cell_type": "code",
   "execution_count": 29,
   "metadata": {},
   "outputs": [
    {
     "data": {
      "text/html": [
       "0.745094152115191"
      ],
      "text/latex": [
       "0.745094152115191"
      ],
      "text/markdown": [
       "0.745094152115191"
      ],
      "text/plain": [
       "[1] 0.7450942"
      ]
     },
     "metadata": {},
     "output_type": "display_data"
    }
   ],
   "source": [
    "model2.sum$adj.r.squared"
   ]
  },
  {
   "cell_type": "code",
   "execution_count": 30,
   "metadata": {},
   "outputs": [
    {
     "data": {
      "text/html": [
       "2409.74131517394"
      ],
      "text/latex": [
       "2409.74131517394"
      ],
      "text/markdown": [
       "2409.74131517394"
      ],
      "text/plain": [
       "[1] 2409.741"
      ]
     },
     "metadata": {},
     "output_type": "display_data"
    }
   ],
   "source": [
    "#AIC \n",
    "AIC(model1)"
   ]
  },
  {
   "cell_type": "code",
   "execution_count": 31,
   "metadata": {},
   "outputs": [
    {
     "data": {
      "text/html": [
       "2405.8145675668"
      ],
      "text/latex": [
       "2405.8145675668"
      ],
      "text/markdown": [
       "2405.8145675668"
      ],
      "text/plain": [
       "[1] 2405.815"
      ]
     },
     "metadata": {},
     "output_type": "display_data"
    }
   ],
   "source": [
    "AIC(model2)"
   ]
  },
  {
   "cell_type": "code",
   "execution_count": 32,
   "metadata": {},
   "outputs": [
    {
     "data": {
      "text/html": [
       "2469.76253834335"
      ],
      "text/latex": [
       "2469.76253834335"
      ],
      "text/markdown": [
       "2469.76253834335"
      ],
      "text/plain": [
       "[1] 2469.763"
      ]
     },
     "metadata": {},
     "output_type": "display_data"
    }
   ],
   "source": [
    "#BIC\n",
    "BIC(model1)"
   ]
  },
  {
   "cell_type": "code",
   "execution_count": 33,
   "metadata": {},
   "outputs": [
    {
     "data": {
      "text/html": [
       "2457.83296098029"
      ],
      "text/latex": [
       "2457.83296098029"
      ],
      "text/markdown": [
       "2457.83296098029"
      ],
      "text/plain": [
       "[1] 2457.833"
      ]
     },
     "metadata": {},
     "output_type": "display_data"
    }
   ],
   "source": [
    "BIC(model2)"
   ]
  },
  {
   "cell_type": "code",
   "execution_count": 34,
   "metadata": {},
   "outputs": [
    {
     "data": {
      "text/html": [
       "25.6355796298644"
      ],
      "text/latex": [
       "25.6355796298644"
      ],
      "text/markdown": [
       "25.6355796298644"
      ],
      "text/plain": [
       "[1] 25.63558"
      ]
     },
     "metadata": {},
     "output_type": "display_data"
    }
   ],
   "source": [
    "#Out-of-sample Prediction or test error (MSPE)\n",
    "model1.pred.test <- predict(model1, newdata = Boston.test)\n",
    "model1.mspe <- mean((model1.pred.test - Boston.test$medv) ^ 2)\n",
    "model1.mspe"
   ]
  },
  {
   "cell_type": "code",
   "execution_count": 35,
   "metadata": {},
   "outputs": [
    {
     "data": {
      "text/html": [
       "25.5518502154893"
      ],
      "text/latex": [
       "25.5518502154893"
      ],
      "text/markdown": [
       "25.5518502154893"
      ],
      "text/plain": [
       "[1] 25.55185"
      ]
     },
     "metadata": {},
     "output_type": "display_data"
    }
   ],
   "source": [
    "model2.pred.test <- predict(model2, newdata = Boston.test)\n",
    "model2.mspe <- mean((model2.pred.test - Boston.test$medv) ^ 2)\n",
    "model2.mspe"
   ]
  },
  {
   "cell_type": "code",
   "execution_count": 36,
   "metadata": {},
   "outputs": [
    {
     "data": {
      "text/html": [
       "23.9461579683839"
      ],
      "text/latex": [
       "23.9461579683839"
      ],
      "text/markdown": [
       "23.9461579683839"
      ],
      "text/plain": [
       "[1] 23.94616"
      ]
     },
     "metadata": {},
     "output_type": "display_data"
    }
   ],
   "source": [
    "#Cross Validation\n",
    "model1.glm = glm(medv ~ ., data = Boston)\n",
    "cv.glm(data = Boston, glmfit = model1.glm, K = 5)$delta[2]"
   ]
  },
  {
   "cell_type": "code",
   "execution_count": 37,
   "metadata": {},
   "outputs": [
    {
     "data": {
      "text/html": [
       "24.3045452917564"
      ],
      "text/latex": [
       "24.3045452917564"
      ],
      "text/markdown": [
       "24.3045452917564"
      ],
      "text/plain": [
       "[1] 24.30455"
      ]
     },
     "metadata": {},
     "output_type": "display_data"
    }
   ],
   "source": [
    "model2.glm <- glm(medv ~ . -indus -age, data = Boston)\n",
    "cv.glm(data = Boston, glmfit = model2.glm, K = 5)$delta[2]"
   ]
  },
  {
   "cell_type": "markdown",
   "metadata": {},
   "source": [
    "Based on AIC criteria and adjusted R square values, model 2 is slightly better than model 1. In-sample MSE is nearly the same for both models.\n",
    "\n",
    "We need to check out-of-sample MSPE for both models. Based on out-of-sample prediction error, model 2 is slightly better than model 1. MSPE of model 1 is 20.7113 while that of model 2 is 20.6784. Based on cross validation also, model 2 performs better."
   ]
  },
  {
   "cell_type": "markdown",
   "metadata": {},
   "source": [
    "Fitting Regression Trees\n",
    "Following regression trees were fitted to the training data. * Using default value, cp = 0.01 and no additional constraints. This resulted in a tree with 8 terminal nodes. * Making cp = 0.001 and allowing the tree to grow large This results in a tree with 27 terminal nodes. A plot of cp values vs error rates (fig 7) shows that a cp value of 0.0072 would reduce the complexity of the model. * Finally, with cp = 0.0072. This results in a tree with 10 terminal nodes."
   ]
  },
  {
   "cell_type": "code",
   "execution_count": 38,
   "metadata": {},
   "outputs": [
    {
     "data": {
      "text/plain": [
       "n= 404 \n",
       "\n",
       "node), split, n, deviance, yval\n",
       "      * denotes terminal node\n",
       "\n",
       " 1) root 404 34499.6200 22.66287  \n",
       "   2) lstat>=9.54 241  5559.4940 17.45602  \n",
       "     4) lstat>=15 131  2452.6770 14.77634  \n",
       "       8) crim>=6.340595 62   866.3535 12.14516 *\n",
       "       9) crim< 6.340595 69   771.4064 17.14058 *\n",
       "     5) lstat< 15 110  1045.8940 20.64727 *\n",
       "   3) lstat< 9.54 163 12745.8500 30.36135  \n",
       "     6) rm< 7.437 140  6049.1890 27.84786  \n",
       "      12) rm< 6.659 85  2655.6070 25.00588  \n",
       "        24) age< 88.8 78   631.6138 23.95385 *\n",
       "        25) age>=88.8 7   975.7143 36.72857 *\n",
       "      13) rm>=6.659 55  1646.0520 32.24000  \n",
       "        26) lstat>=5.495 24   431.9896 28.97083 *\n",
       "        27) lstat< 5.495 31   758.9839 34.77097 *\n",
       "     7) rm>=7.437 23   428.4548 45.66087 *"
      ]
     },
     "metadata": {},
     "output_type": "display_data"
    }
   ],
   "source": [
    "#default value of cp = 0.01\n",
    "Boston.tree <- rpart(medv ~ ., data = Boston.train)\n",
    "Boston.tree"
   ]
  },
  {
   "cell_type": "code",
   "execution_count": 39,
   "metadata": {},
   "outputs": [
    {
     "data": {
      "image/png": "[encoded data removed]",
      "text/plain": [
       "plot without title"
      ]
     },
     "metadata": {},
     "output_type": "display_data"
    }
   ],
   "source": [
    "#Plotting the tree\n",
    "rpart.plot(Boston.tree, type = 3, box.palette = c(\"red\", \"green\"), fallen.leaves = TRUE)"
   ]
  },
  {
   "cell_type": "code",
   "execution_count": 40,
   "metadata": {},
   "outputs": [
    {
     "data": {
      "image/png": "[encoded data removed]",
      "text/plain": [
       "plot without title"
      ]
     },
     "metadata": {},
     "output_type": "display_data"
    }
   ],
   "source": [
    "plotcp(Boston.tree)"
   ]
  },
  {
   "cell_type": "code",
   "execution_count": 41,
   "metadata": {},
   "outputs": [
    {
     "name": "stdout",
     "output_type": "stream",
     "text": [
      "\n",
      "Regression tree:\n",
      "rpart(formula = medv ~ ., data = Boston.train)\n",
      "\n",
      "Variables actually used in tree construction:\n",
      "[1] age   crim  lstat rm   \n",
      "\n",
      "Root node error: 34500/404 = 85.395\n",
      "\n",
      "n= 404 \n",
      "\n",
      "        CP nsplit rel error  xerror     xstd\n",
      "1 0.469405      0   1.00000 1.00785 0.092199\n",
      "2 0.181689      1   0.53060 0.64692 0.068944\n",
      "3 0.059738      2   0.34891 0.43559 0.057519\n",
      "4 0.050654      3   0.28917 0.39890 0.052278\n",
      "5 0.030385      4   0.23852 0.35057 0.050465\n",
      "6 0.023621      5   0.20813 0.31929 0.044387\n",
      "7 0.013191      6   0.18451 0.30499 0.043422\n",
      "8 0.010000      7   0.17132 0.28532 0.041913\n"
     ]
    }
   ],
   "source": [
    "printcp(Boston.tree)"
   ]
  },
  {
   "cell_type": "code",
   "execution_count": 42,
   "metadata": {},
   "outputs": [
    {
     "data": {
      "image/png": "[encoded data removed]",
      "text/plain": [
       "plot without title"
      ]
     },
     "metadata": {},
     "output_type": "display_data"
    }
   ],
   "source": [
    "#Building a large tree\n",
    "Boston.largetree <- rpart(formula = medv ~ ., data = Boston.train, cp = 0.001)\n",
    "\n",
    "plot(Boston.largetree)\n",
    "text(Boston.largetree)"
   ]
  },
  {
   "cell_type": "code",
   "execution_count": 43,
   "metadata": {},
   "outputs": [
    {
     "name": "stdout",
     "output_type": "stream",
     "text": [
      "\n",
      "Regression tree:\n",
      "rpart(formula = medv ~ ., data = Boston.train, cp = 0.001)\n",
      "\n",
      "Variables actually used in tree construction:\n",
      "[1] age   black crim  dis   lstat nox   rm   \n",
      "\n",
      "Root node error: 34500/404 = 85.395\n",
      "\n",
      "n= 404 \n",
      "\n",
      "          CP nsplit rel error  xerror     xstd\n",
      "1  0.4694046      0   1.00000 1.00969 0.092218\n",
      "2  0.1816890      1   0.53060 0.64537 0.071631\n",
      "3  0.0597375      2   0.34891 0.42519 0.058082\n",
      "4  0.0506536      3   0.28917 0.41070 0.054012\n",
      "5  0.0303852      4   0.23852 0.41120 0.056918\n",
      "6  0.0236210      5   0.20813 0.38214 0.055279\n",
      "7  0.0131908      6   0.18451 0.37023 0.055182\n",
      "8  0.0083950      7   0.17132 0.32310 0.046992\n",
      "9  0.0073631      8   0.16292 0.31787 0.047147\n",
      "10 0.0066155      9   0.15556 0.30334 0.042926\n",
      "11 0.0062085     10   0.14894 0.30473 0.042943\n",
      "12 0.0056745     11   0.14274 0.30429 0.042948\n",
      "13 0.0054189     12   0.13706 0.28733 0.039988\n",
      "14 0.0035860     13   0.13164 0.28409 0.040029\n",
      "15 0.0033858     14   0.12806 0.28445 0.039828\n",
      "16 0.0027904     15   0.12467 0.28403 0.039800\n",
      "17 0.0027631     16   0.12188 0.28394 0.039807\n",
      "18 0.0025682     17   0.11912 0.28434 0.039814\n",
      "19 0.0019217     18   0.11655 0.28483 0.039826\n",
      "20 0.0017040     19   0.11463 0.28348 0.039710\n",
      "21 0.0016557     20   0.11292 0.28312 0.039647\n",
      "22 0.0015706     21   0.11127 0.28202 0.039649\n",
      "23 0.0014746     22   0.10970 0.28263 0.039658\n",
      "24 0.0014037     23   0.10822 0.28411 0.039655\n",
      "25 0.0011980     25   0.10541 0.28437 0.039660\n",
      "26 0.0010439     26   0.10422 0.28601 0.039697\n",
      "27 0.0010000     27   0.10317 0.28551 0.039704\n"
     ]
    }
   ],
   "source": [
    "printcp(Boston.largetree)"
   ]
  },
  {
   "cell_type": "code",
   "execution_count": 44,
   "metadata": {},
   "outputs": [
    {
     "data": {
      "image/png": "[encoded data removed]",
      "text/plain": [
       "plot without title"
      ]
     },
     "metadata": {},
     "output_type": "display_data"
    }
   ],
   "source": [
    "plotcp(Boston.largetree)"
   ]
  },
  {
   "cell_type": "code",
   "execution_count": 45,
   "metadata": {},
   "outputs": [
    {
     "data": {
      "text/plain": [
       "n= 404 \n",
       "\n",
       "node), split, n, deviance, yval\n",
       "      * denotes terminal node\n",
       "\n",
       " 1) root 404 34499.62000 22.66287  \n",
       "   2) lstat>=9.54 241  5559.49400 17.45602  \n",
       "     4) lstat>=15 131  2452.67700 14.77634  \n",
       "       8) crim>=6.340595 62   866.35350 12.14516 *\n",
       "       9) crim< 6.340595 69   771.40640 17.14058 *\n",
       "     5) lstat< 15 110  1045.89400 20.64727 *\n",
       "   3) lstat< 9.54 163 12745.85000 30.36135  \n",
       "     6) rm< 7.437 140  6049.18900 27.84786  \n",
       "      12) rm< 6.659 85  2655.60700 25.00588  \n",
       "        24) age< 88.8 78   631.61380 23.95385 *\n",
       "        25) age>=88.8 7   975.71430 36.72857 *\n",
       "      13) rm>=6.659 55  1646.05200 32.24000  \n",
       "        26) lstat>=5.495 24   431.98960 28.97083  \n",
       "          52) rm< 7.0835 15   109.68400 26.28000 *\n",
       "          53) rm>=7.0835 9    32.68222 33.45556 *\n",
       "        27) lstat< 5.495 31   758.98390 34.77097  \n",
       "          54) dis>=4.08915 24   164.40500 33.22500 *\n",
       "          55) dis< 4.08915 7   340.55430 40.07143 *\n",
       "     7) rm>=7.437 23   428.45480 45.66087 *"
      ]
     },
     "metadata": {},
     "output_type": "display_data"
    }
   ],
   "source": [
    "#however, from plotcp, we observe that a tree with more than 7 to 9 splits is not very helpful.\n",
    "#further pruning the tree to limit to 9 splits;corresponding cp value from plot is 0.0072\n",
    "pruned.tree <- prune(Boston.largetree, cp = 0.0072)\n",
    "pruned.tree"
   ]
  },
  {
   "cell_type": "code",
   "execution_count": 46,
   "metadata": {},
   "outputs": [
    {
     "data": {
      "image/png": "[encoded data removed]",
      "text/plain": [
       "plot without title"
      ]
     },
     "metadata": {},
     "output_type": "display_data"
    }
   ],
   "source": [
    "rpart.plot(pruned.tree, type = 3, box.palette = c(\"red\", \"green\"), fallen.leaves = TRUE, extra = 1)"
   ]
  },
  {
   "cell_type": "code",
   "execution_count": 47,
   "metadata": {},
   "outputs": [
    {
     "data": {
      "text/html": [
       "14.6297289004821"
      ],
      "text/latex": [
       "14.6297289004821"
      ],
      "text/markdown": [
       "14.6297289004821"
      ],
      "text/plain": [
       "[1] 14.62973"
      ]
     },
     "metadata": {},
     "output_type": "display_data"
    }
   ],
   "source": [
    "#In-sample MSE\n",
    "mean((predict(Boston.tree) - Boston.train$medv) ^ 2) "
   ]
  },
  {
   "cell_type": "code",
   "execution_count": 48,
   "metadata": {},
   "outputs": [
    {
     "data": {
      "text/html": [
       "8.81046039152479"
      ],
      "text/latex": [
       "8.81046039152479"
      ],
      "text/markdown": [
       "8.81046039152479"
      ],
      "text/plain": [
       "[1] 8.81046"
      ]
     },
     "metadata": {},
     "output_type": "display_data"
    }
   ],
   "source": [
    "mean((predict(Boston.largetree) - Boston.train$medv) ^ 2)"
   ]
  },
  {
   "cell_type": "code",
   "execution_count": 49,
   "metadata": {},
   "outputs": [
    {
     "data": {
      "text/html": [
       "13.2840656669065"
      ],
      "text/latex": [
       "13.2840656669065"
      ],
      "text/markdown": [
       "13.2840656669065"
      ],
      "text/plain": [
       "[1] 13.28407"
      ]
     },
     "metadata": {},
     "output_type": "display_data"
    }
   ],
   "source": [
    "mean((predict(pruned.tree) - Boston.train$medv) ^ 2)       #pruned tree"
   ]
  },
  {
   "cell_type": "code",
   "execution_count": 50,
   "metadata": {},
   "outputs": [
    {
     "data": {
      "text/html": [
       "22.9713438159054"
      ],
      "text/latex": [
       "22.9713438159054"
      ],
      "text/markdown": [
       "22.9713438159054"
      ],
      "text/plain": [
       "[1] 22.97134"
      ]
     },
     "metadata": {},
     "output_type": "display_data"
    }
   ],
   "source": [
    "#out-of-sample performance\n",
    "#Mean squared error loss for this tree\n",
    "mean((predict(Boston.tree, newdata = Boston.test) - Boston.test$medv) ^ 2)  #default tree"
   ]
  },
  {
   "cell_type": "code",
   "execution_count": 51,
   "metadata": {},
   "outputs": [
    {
     "data": {
      "text/html": [
       "20.3491915166032"
      ],
      "text/latex": [
       "20.3491915166032"
      ],
      "text/markdown": [
       "20.3491915166032"
      ],
      "text/plain": [
       "[1] 20.34919"
      ]
     },
     "metadata": {},
     "output_type": "display_data"
    }
   ],
   "source": [
    "mean((predict(Boston.largetree, newdata = Boston.test) - Boston.test$medv) ^ 2)   #large tree"
   ]
  },
  {
   "cell_type": "code",
   "execution_count": 52,
   "metadata": {},
   "outputs": [
    {
     "data": {
      "text/html": [
       "21.9045643032296"
      ],
      "text/latex": [
       "21.9045643032296"
      ],
      "text/markdown": [
       "21.9045643032296"
      ],
      "text/plain": [
       "[1] 21.90456"
      ]
     },
     "metadata": {},
     "output_type": "display_data"
    }
   ],
   "source": [
    "mean((predict(pruned.tree, newdata = Boston.test) - Boston.test$medv) ^ 2)     #pruned tree"
   ]
  },
  {
   "cell_type": "markdown",
   "metadata": {},
   "source": [
    "From plot, we can observe that cross validation error does not always go down when tree becomes more complex. We can see that a tree with more than 7 to 9 splits is not very helpful.\n",
    "\n",
    "The large tree results in lowest in-sample and out-of-sample prediction error compared to other two trees. But there is a large difference between in-sample and out-of-sample performance for this tree. In contrast, trees with default cp value and pruned tree have lower difference between in-sample and out-of-sample prediction errors. Further, they are easier to read and interpret and do not sacrifice much in terms of out-of-sample prediction error. Since pruned has lower prediction errors compared to tree with default cp value, it is the chosen tree."
   ]
  },
  {
   "cell_type": "markdown",
   "metadata": {},
   "source": [
    "Residual diagnostics of linear regression model showed that the relation between medv and predictor variables may not be linear. Since the correct transformation of predictor variables is not known, GAM can be used to model non-linearity. GAM is fit using smoothing splines, s(), which is available in gam library in R. In the model, smoothing spline is used for all continuous variables except ‘chas’ and ‘rad’, which are of integer type and which have less than 10 unique values. It is not recommended to use smoothing splines on such variables."
   ]
  },
  {
   "cell_type": "code",
   "execution_count": 53,
   "metadata": {},
   "outputs": [
    {
     "data": {
      "text/plain": [
       "\n",
       "Family: gaussian \n",
       "Link function: identity \n",
       "\n",
       "Formula:\n",
       "medv ~ s(crim) + s(zn) + s(indus) + s(nox) + s(rm) + s(age) + \n",
       "    s(dis) + s(tax) + s(ptratio) + s(black) + s(lstat) + chas + \n",
       "    rad\n",
       "\n",
       "Parametric coefficients:\n",
       "            Estimate Std. Error t value Pr(>|t|)    \n",
       "(Intercept)  19.6925     1.1336  17.372  < 2e-16 ***\n",
       "chas          1.9526     0.6888   2.835  0.00485 ** \n",
       "rad           0.2974     0.1175   2.531  0.01181 *  \n",
       "---\n",
       "Signif. codes:  0 '***' 0.001 '**' 0.01 '*' 0.05 '.' 0.1 ' ' 1\n",
       "\n",
       "Approximate significance of smooth terms:\n",
       "             edf Ref.df      F  p-value    \n",
       "s(crim)    6.883  7.847  8.881 4.57e-11 ***\n",
       "s(zn)      1.000  1.000  1.168  0.28053    \n",
       "s(indus)   5.278  6.273  3.841  0.00089 ***\n",
       "s(nox)     8.882  8.986 12.787  < 2e-16 ***\n",
       "s(rm)      4.222  5.285 35.878  < 2e-16 ***\n",
       "s(age)     1.000  1.000  1.790  0.18176    \n",
       "s(dis)     8.794  8.980  9.097 1.49e-12 ***\n",
       "s(tax)     3.617  4.360  7.685 3.02e-06 ***\n",
       "s(ptratio) 1.940  2.442 15.475 5.88e-08 ***\n",
       "s(black)   5.055  6.077  2.075  0.05331 .  \n",
       "s(lstat)   5.800  6.981 26.180  < 2e-16 ***\n",
       "---\n",
       "Signif. codes:  0 '***' 0.001 '**' 0.01 '*' 0.05 '.' 0.1 ' ' 1\n",
       "\n",
       "R-sq.(adj) =  0.898   Deviance explained = 91.2%\n",
       "GCV = 10.114  Scale est. = 8.7255    n = 404"
      ]
     },
     "metadata": {},
     "output_type": "display_data"
    }
   ],
   "source": [
    "#model 1 - not using s() on chas and rad, leaving them as integers\n",
    "Boston.gam <- gam(medv ~ s(crim) + s(zn) + s(indus) + s(nox) + s(rm) + s(age) + s(dis) + \n",
    "                    s(tax) + s(ptratio) + s(black) + s(lstat) + chas + rad, data = Boston.train)\n",
    "summary(Boston.gam)"
   ]
  },
  {
   "cell_type": "markdown",
   "metadata": {},
   "source": [
    "Variables which have edf close to 1 have linear relationship with medv. Summary of the model shows that variables ‘zn’, ‘age’ and ‘black’ have edf of 1. This along with their p-values, indicates that they have a linear relationship with medv. Rest of the variables have a non-linear relationship with medv."
   ]
  },
  {
   "cell_type": "code",
   "execution_count": 54,
   "metadata": {},
   "outputs": [
    {
     "data": {
      "text/plain": [
       "\n",
       "Family: gaussian \n",
       "Link function: identity \n",
       "\n",
       "Formula:\n",
       "medv ~ s(crim) + zn + s(indus) + s(nox) + s(rm) + age + s(dis) + \n",
       "    s(tax) + s(ptratio) + black + s(lstat) + chas + rad\n",
       "\n",
       "Parametric coefficients:\n",
       "             Estimate Std. Error t value Pr(>|t|)    \n",
       "(Intercept) 18.824254   1.605290  11.726  < 2e-16 ***\n",
       "zn           0.010363   0.014510   0.714  0.47557    \n",
       "age         -0.015084   0.011482  -1.314  0.18982    \n",
       "black        0.003928   0.002116   1.856  0.06424 .  \n",
       "chas         1.971064   0.691441   2.851  0.00462 ** \n",
       "rad          0.337044   0.118604   2.842  0.00475 ** \n",
       "---\n",
       "Signif. codes:  0 '***' 0.001 '**' 0.01 '*' 0.05 '.' 0.1 ' ' 1\n",
       "\n",
       "Approximate significance of smooth terms:\n",
       "             edf Ref.df      F  p-value    \n",
       "s(crim)    7.024  7.997  9.276 8.77e-12 ***\n",
       "s(indus)   5.584  6.592  3.629  0.00121 ** \n",
       "s(nox)     8.887  8.987 13.343  < 2e-16 ***\n",
       "s(rm)      4.170  5.228 35.978  < 2e-16 ***\n",
       "s(dis)     8.778  8.979  9.232 9.02e-13 ***\n",
       "s(tax)     3.673  4.427  7.431 4.33e-06 ***\n",
       "s(ptratio) 1.967  2.477 16.056 2.71e-08 ***\n",
       "s(lstat)   5.824  7.013 26.158  < 2e-16 ***\n",
       "---\n",
       "Signif. codes:  0 '***' 0.001 '**' 0.01 '*' 0.05 '.' 0.1 ' ' 1\n",
       "\n",
       "R-sq.(adj) =  0.896   Deviance explained = 90.9%\n",
       "GCV = 10.199  Scale est. = 8.889     n = 404"
      ]
     },
     "metadata": {},
     "output_type": "display_data"
    }
   ],
   "source": [
    "#model 2 - removing s() from functions which are linear\n",
    "Boston.gam <- gam(medv ~ s(crim) + zn + s(indus) + s(nox) + s(rm) + age + s(dis) + \n",
    "                    s(tax) + s(ptratio) + black + s(lstat) + chas + rad, data = Boston.train)\n",
    "summary(Boston.gam)"
   ]
  },
  {
   "cell_type": "markdown",
   "metadata": {},
   "source": [
    "Performance metrics of the model is shown below:"
   ]
  },
  {
   "cell_type": "code",
   "execution_count": 55,
   "metadata": {},
   "outputs": [
    {
     "data": {
      "text/html": [
       "2079.4203468235"
      ],
      "text/latex": [
       "2079.4203468235"
      ],
      "text/markdown": [
       "2079.4203468235"
      ],
      "text/plain": [
       "[1] 2079.42"
      ]
     },
     "metadata": {},
     "output_type": "display_data"
    }
   ],
   "source": [
    "#Model AIC, BIC, mean residual deviance\n",
    "AIC(Boston.gam)"
   ]
  },
  {
   "cell_type": "code",
   "execution_count": 56,
   "metadata": {},
   "outputs": [
    {
     "data": {
      "text/html": [
       "2291.11825702982"
      ],
      "text/latex": [
       "2291.11825702982"
      ],
      "text/markdown": [
       "2291.11825702982"
      ],
      "text/plain": [
       "[1] 2291.118"
      ]
     },
     "metadata": {},
     "output_type": "display_data"
    }
   ],
   "source": [
    "BIC(Boston.gam)"
   ]
  },
  {
   "cell_type": "code",
   "execution_count": 57,
   "metadata": {},
   "outputs": [
    {
     "data": {
      "text/html": [
       "3129.74921212725"
      ],
      "text/latex": [
       "3129.74921212725"
      ],
      "text/markdown": [
       "3129.74921212725"
      ],
      "text/plain": [
       "[1] 3129.749"
      ]
     },
     "metadata": {},
     "output_type": "display_data"
    }
   ],
   "source": [
    "Boston.gam$deviance"
   ]
  },
  {
   "cell_type": "code",
   "execution_count": 58,
   "metadata": {},
   "outputs": [
    {
     "data": {
      "image/png": "[encoded data removed]",
      "text/plain": [
       "plot without title"
      ]
     },
     "metadata": {},
     "output_type": "display_data"
    },
    {
     "data": {
      "image/png": "[encoded data removed]",
      "text/plain": [
       "plot without title"
      ]
     },
     "metadata": {},
     "output_type": "display_data"
    },
    {
     "data": {
      "image/png": "[encoded data removed]",
      "text/plain": [
       "plot without title"
      ]
     },
     "metadata": {},
     "output_type": "display_data"
    },
    {
     "data": {
      "image/png": "[encoded data removed]",
      "text/plain": [
       "plot without title"
      ]
     },
     "metadata": {},
     "output_type": "display_data"
    },
    {
     "data": {
      "image/png": "[encoded data removed]",
      "text/plain": [
       "plot without title"
      ]
     },
     "metadata": {},
     "output_type": "display_data"
    },
    {
     "data": {
      "image/png": "[encoded data removed]",
      "text/plain": [
       "plot without title"
      ]
     },
     "metadata": {},
     "output_type": "display_data"
    },
    {
     "data": {
      "image/png": "[encoded data removed]",
      "text/plain": [
       "plot without title"
      ]
     },
     "metadata": {},
     "output_type": "display_data"
    },
    {
     "data": {
      "image/png": "[encoded data removed]",
      "text/plain": [
       "plot without title"
      ]
     },
     "metadata": {},
     "output_type": "display_data"
    }
   ],
   "source": [
    "#plot\n",
    "plot(Boston.gam, shade = TRUE, seWithMean = TRUE, scale = 0)"
   ]
  },
  {
   "cell_type": "code",
   "execution_count": 59,
   "metadata": {},
   "outputs": [
    {
     "data": {
      "text/html": [
       "7.74690399036094"
      ],
      "text/latex": [
       "7.74690399036094"
      ],
      "text/markdown": [
       "7.74690399036094"
      ],
      "text/plain": [
       "[1] 7.746904"
      ]
     },
     "metadata": {},
     "output_type": "display_data"
    }
   ],
   "source": [
    "#In-sample prediction\n",
    "(Boston.gam.mse <- mean((predict(Boston.gam) - Boston.train$medv) ^ 2))"
   ]
  },
  {
   "cell_type": "code",
   "execution_count": 60,
   "metadata": {},
   "outputs": [
    {
     "data": {
      "text/html": [
       "17.1476507981735"
      ],
      "text/latex": [
       "17.1476507981735"
      ],
      "text/markdown": [
       "17.1476507981735"
      ],
      "text/plain": [
       "[1] 17.14765"
      ]
     },
     "metadata": {},
     "output_type": "display_data"
    }
   ],
   "source": [
    "#Out-of-sample prediction - MSPE\n",
    "(Boston.gam.mspe <- mean((predict(Boston.gam, newdata = Boston.test) - Boston.test$medv) ^ 2))"
   ]
  },
  {
   "cell_type": "markdown",
   "metadata": {},
   "source": [
    "Conclusion\n",
    "Three different methods - linear regression, regression tree and GAM - were used to predict median housing price (medv) in the above problem. In each method, the best possible model was chosen based on its performance using in-sample and out-of-sample data sets. The performance measures used include mean squared error (in-sample) and mean squared prediction error (out-of-sample). Finally, a comprehensive model comparison was done between different methods. Lower the MSPE, better is the model.\n",
    "\n",
    "It was observed GAM performs the best among the model with lowest out-of-sample MSPE. Moreover, it is able to capture non-linear relations in the data set."
   ]
  }
 ],
 "metadata": {
  "kernelspec": {
   "display_name": "R",
   "language": "R",
   "name": "ir"
  },
  "language_info": {
   "codemirror_mode": "r",
   "file_extension": ".r",
   "mimetype": "text/x-r-source",
   "name": "R",
   "pygments_lexer": "r",
   "version": "3.6.1"
  }
 },
 "nbformat": 4,
 "nbformat_minor": 2
}
